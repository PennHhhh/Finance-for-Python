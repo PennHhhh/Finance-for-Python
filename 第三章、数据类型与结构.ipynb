{
 "cells": [
  {
   "cell_type": "markdown",
   "metadata": {},
   "source": [
    "整数"
   ]
  },
  {
   "cell_type": "code",
   "execution_count": 3,
   "metadata": {},
   "outputs": [
    {
     "name": "stdout",
     "output_type": "stream",
     "text": [
      "<class 'int'>\n",
      "**********\n",
      "14\n"
     ]
    }
   ],
   "source": [
    "a = 10000\n",
    "print(type(a))\n",
    "print('*'*10)\n",
    "print(a.bit_length())       # int 没有 len()\n"
   ]
  },
  {
   "cell_type": "markdown",
   "metadata": {},
   "source": [
    "浮点数"
   ]
  },
  {
   "cell_type": "code",
   "execution_count": 1,
   "metadata": {},
   "outputs": [
    {
     "name": "stdout",
     "output_type": "stream",
     "text": [
      "0.09090909090909090909090909091\n",
      "0.09091\n",
      "10\n"
     ]
    }
   ],
   "source": [
    "import decimal\n",
    "from decimal import Decimal\n",
    "\n",
    "decimal.getcontext()            # 通过修改上下文来修改小数点精度、舍入模式等\n",
    "\n",
    "d = Decimal(1) / Decimal(11)\n",
    "print(d)\n",
    "\n",
    "decimal.getcontext().prec = 4   # 改变精度，默认prec=28\n",
    "\n",
    "d = Decimal(1) / Decimal(11)\n",
    "print(d)\n",
    "\n",
    "print(Decimal(10.000))"
   ]
  },
  {
   "cell_type": "markdown",
   "metadata": {},
   "source": [
    "布尔值"
   ]
  },
  {
   "cell_type": "code",
   "execution_count": 13,
   "metadata": {},
   "outputs": [
    {
     "name": "stdout",
     "output_type": "stream",
     "text": [
      "False\n",
      "True\n",
      "True\n"
     ]
    }
   ],
   "source": [
    "import keyword \n",
    "\n",
    "keyword.kwlist\n",
    "\n",
    "print(bool(0))\n",
    "print(bool(1))\n",
    "print(bool(-2))"
   ]
  },
  {
   "cell_type": "markdown",
   "metadata": {},
   "source": [
    "字符串"
   ]
  },
  {
   "cell_type": "code",
   "execution_count": 52,
   "metadata": {},
   "outputs": [
    {
     "name": "stdout",
     "output_type": "stream",
     "text": [
      "This Is A Penn \n",
      " Tom\n",
      "This is a penn \n",
      " tom\n",
      "['this', 'is', 'a', 'penn', 'tom']\n",
      "['this is a penn ', ' tom']\n",
      "-1\n",
      "10\n",
      "|t|h|is is a penn \n",
      " tom\n",
      "|t|h|i|s| |i|s| |a| |p|e|n|n| |\n",
      "| |t|o|m|\n",
      "This|is|a|penn|\n",
      "|tom\n",
      "www.python.org\n",
      "1\n",
      "Tthis is a penn \n",
      " tomothis is a penn \n",
      " tommthis is a penn \n",
      " tombthis is a penn \n",
      " tomothis is a penn \n",
      " tomy\n",
      "tTomboyhTomboyiTomboysTomboy TomboyiTomboysTomboy TomboyaTomboy TomboypTomboyeTomboynTomboynTomboy Tomboy\n",
      "Tomboy TomboytTomboyoTomboym\n"
     ]
    }
   ],
   "source": [
    "t = 'this is a penn \\n tom'\n",
    "print(t.title())\n",
    "print(t.capitalize())\n",
    "print(t.split())\n",
    "print(t.splitlines())           # 返回以行结束符/换行符分隔的行\n",
    "print(t.find('string'))\n",
    "print(t.find('penn'))\n",
    "print(t.replace('', '|',3))\n",
    "print(t.replace('', '|'))\n",
    "print(t.replace(' ', '|').capitalize())\n",
    "\n",
    "print('http://www.python.org'.strip('htp:/'))\n",
    "print(t.count('i',1,5))\n",
    "\n",
    "f = 'Tomboy'\n",
    "print(t.join(f))\n",
    "print(f.join(t))\n"
   ]
  },
  {
   "cell_type": "code",
   "execution_count": 66,
   "metadata": {},
   "outputs": [
    {
     "name": "stdout",
     "output_type": "stream",
     "text": [
      "this is an integer 15\n",
      "this is an integer   15\n",
      "this is an integer 0015\n",
      "this is an integer 15.466800\n",
      "this is an integer 15.47\n",
      "this is an integer    15.47\n",
      "this is an integer 00015.47\n",
      "this is an integer java\n",
      "this is an integer       java\n"
     ]
    }
   ],
   "source": [
    "print('this is an integer %d' %15)                  # 整数对象替换\n",
    "print('this is an integer %4d' %15)                 # 固定数量的字符\n",
    "print('this is an integer %04d' %15)                # 必要时加上前导0\n",
    "print('this is an integer %f' %15.4668)             # 浮点数对象替换\n",
    "print('this is an integer %.2f' %15.4668)           # 固定小数位数\n",
    "print('this is an integer %8.2f' %15.4668)          # 固定小数位数和数量字符\n",
    "print('this is an integer %08.2f' %15.4668)         # 必要时加上前导0\n",
    "print('this is an integer %s' %'java')              # 字符串对象替换\n",
    "print('this is an integer %10s' %'java')            # 固定字符数"
   ]
  },
  {
   "cell_type": "code",
   "execution_count": 77,
   "metadata": {},
   "outputs": [
    {
     "name": "stdout",
     "output_type": "stream",
     "text": [
      "this is an integer  156\n",
      "this is an integer 0156\n",
      "this is an integer 15.35\n",
      "this is an integer    15.35\n",
      "this is an integer 00015.35\n",
      "this is an integer java\n",
      "this is an integer java      \n"
     ]
    }
   ],
   "source": [
    "print(f'this is an integer {156:4d}') \n",
    "print(f'this is an integer {156:04d}') \n",
    "print(f'this is an integer {15.3456:.2f}')                \n",
    "print(f'this is an integer {15.3456:8.2f}') \n",
    "print(f'this is an integer {15.3456:08.2f}')\n",
    "print('this is an integer {:s}'.format('java'))\n",
    "print('this is an integer {:10s}'.format('java'))"
   ]
  },
  {
   "cell_type": "markdown",
   "metadata": {},
   "source": [
    "正则表达式"
   ]
  },
  {
   "cell_type": "code",
   "execution_count": 1,
   "metadata": {},
   "outputs": [
    {
     "name": "stdout",
     "output_type": "stream",
     "text": [
      "[\"'01/18/2014 13:00:00'\", \"'01/18/2014 13:30:00'\", \"'01/18/2014 14:00:00'\"]\n",
      "2014-01-18 13:00:00\n",
      "<class 'datetime.datetime'>\n"
     ]
    }
   ],
   "source": [
    "import re\n",
    "from datetime import datetime\n",
    "\n",
    "series = \"\"\"\n",
    "    '01/18/2014 13:00:00', 100, '1st',\n",
    "    '01/18/2014 13:30:00', 110, '2nd',\n",
    "    '01/18/2014 14:00:00', 120, '3rd'\n",
    "    \"\"\"\n",
    "\n",
    "dt = re.compile(\"'[0-9/:\\s]+'\")         \n",
    "    # 创建了一个正则表达式对象，它会匹配字符串中符合特定格式的子串。\n",
    "    # 这个正则表达式的格式是：一个单引号开始，然后是至少一个或多个数字、斜线(/)、冒号(:)、空格字符，再然后是一个单引号结束\n",
    "\n",
    "result = dt.findall(series)     # 尝试在给定的字符串series中找到所有符合正则表达式dt匹配模式的子串\n",
    "print(result)\n",
    "\n",
    "\n",
    "pydt = datetime.strptime(result[0].replace(\"'\",\"\"), '%m/%d/%Y %H:%M:%S')\n",
    "print(pydt)\n",
    "print(type(pydt))"
   ]
  },
  {
   "cell_type": "code",
   "execution_count": 16,
   "metadata": {},
   "outputs": [],
   "source": [
    "# dt = re.compile(\"[0-9\\s]+\")\n",
    "# result = dt.findall(series)\n",
    "# result"
   ]
  },
  {
   "cell_type": "markdown",
   "metadata": {},
   "source": [
    "列表"
   ]
  },
  {
   "cell_type": "code",
   "execution_count": 102,
   "metadata": {},
   "outputs": [
    {
     "name": "stdout",
     "output_type": "stream",
     "text": [
      "[1, 2.5, 'data', [4, 3]]\n",
      "[1, 2.5, 'data', [4, 3], 1.0, 5.0, 'penn ']\n",
      "[1, 2.5, 'data', [4, 3], 1.0, 5.0, 'penn ', 'jogh']\n",
      "[1, 2.5, 'kety', 'data', [4, 3], 1.0, 5.0, 'penn ', 'jogh']\n",
      "[1, 2.5, 'kety', [4, 3], 1.0, 5.0, 'penn ', 'jogh']\n",
      "[1, 2.5, [4, 3], 1.0, 5.0, 'penn ', 'jogh'] \tkety\n"
     ]
    }
   ],
   "source": [
    "l = [1, 2.5, 'data']\n",
    "l.append([4, 3])                # 整体添加\n",
    "print(l)\n",
    "\n",
    "l.extend([1.0, 5.0, 'penn '])   # 拆解后添加\n",
    "print(l)\n",
    "\n",
    "l.insert(8, 'jogh')\n",
    "print(l)\n",
    "\n",
    "l.insert(2, 'kety')             # 在指定索引位置插入对象\n",
    "print(l)\n",
    "\n",
    "l.remove('data')\n",
    "print(l)\n",
    "\n",
    "p = l.pop(2)\n",
    "print(l,f'\\t{p}')"
   ]
  },
  {
   "cell_type": "code",
   "execution_count": 109,
   "metadata": {},
   "outputs": [
    {
     "name": "stdout",
     "output_type": "stream",
     "text": [
      "[True, False, True, False, True, False, True, False, True, False]\n",
      "[0, 1, 4, 9, 16, 25, 36, 49, 64, 81]\n",
      "[0, 2, 4, 6, 8]\n"
     ]
    }
   ],
   "source": [
    "def even(x):\n",
    "    return x%2 == 0\n",
    "\n",
    "print(list(map(even, range(10))))\n",
    "\n",
    "print(list(map(lambda x: x ** 2, range(10))))\n",
    "    # map(lambda x: x ** 2, range(10)): map函数会将提供的函数应用到range(10)中的每一个元素上。\n",
    "    # 在这个例子中，提供的函数是lambda x: x ** 2，这是一个匿名函数，它接受一个输入x，并返回x的平方\n",
    "\n",
    "print(list(filter(even, range(10))))    # 返回列表对象中匹配某个布尔条件的元素"
   ]
  },
  {
   "cell_type": "code",
   "execution_count": 107,
   "metadata": {},
   "outputs": [
    {
     "name": "stdout",
     "output_type": "stream",
     "text": [
      "['NORTH', 'EAST', 'SOUTH', 'WEST']\n"
     ]
    }
   ],
   "source": [
    "def to_upper_case(s):\n",
    "    return s.upper()\n",
    " \n",
    "directions = [\"north\", \"east\", \"south\", \"west\"]\n",
    " \n",
    "directions_upper = map(to_upper_case, directions)\n",
    " \n",
    "print(list(directions_upper))"
   ]
  },
  {
   "cell_type": "code",
   "execution_count": 108,
   "metadata": {},
   "outputs": [
    {
     "name": "stdout",
     "output_type": "stream",
     "text": [
      "['NORTH', 'EAST', 'SOUTH', 'WEST']\n"
     ]
    }
   ],
   "source": [
    "directions = [\"north\", \"east\", \"south\", \"west\"]\n",
    " \n",
    "directions_upper = map(lambda s: s.upper(), directions)\n",
    " \n",
    "print(list(directions_upper))"
   ]
  },
  {
   "cell_type": "markdown",
   "metadata": {},
   "source": [
    "字典：has_key() ——方法太老，以及被移除，现在通常用 in"
   ]
  },
  {
   "cell_type": "code",
   "execution_count": 112,
   "metadata": {},
   "outputs": [
    {
     "name": "stdout",
     "output_type": "stream",
     "text": [
      "True\n",
      "False\n",
      "True\n",
      "False\n"
     ]
    }
   ],
   "source": [
    "# 生成一个字典\n",
    "dict = {'name': '','age': '','sex': ''}\n",
    "# 判断是否存在，其中dict.keys()是列出字典所有的key\n",
    "print('name' in dict.keys())  # 结果返回True\n",
    "print('id' in dict.keys())  # 结果返回False\n",
    "\n",
    "# 或者\n",
    "\n",
    "# 生成一个字典\n",
    "dict = {'name': '','age': '','sex': ''}\n",
    "# 判断key是否存在于dict中\n",
    "print('name' in dict)  # 结果返回True\n",
    "print('id' in dict)  # 结果返回False\n",
    "\n"
   ]
  },
  {
   "cell_type": "markdown",
   "metadata": {},
   "source": [
    "字典：popitem()"
   ]
  },
  {
   "cell_type": "code",
   "execution_count": 113,
   "metadata": {},
   "outputs": [
    {
     "name": "stdout",
     "output_type": "stream",
     "text": [
      "返回值 =  ('url', 'www.runoob.com')\n",
      "site =  {'name': '菜鸟教程', 'alexa': 10000}\n",
      "site =  {'name': '菜鸟教程', 'alexa': 10000, 'nickname': 'Runoob'}\n",
      "返回值 =  ('nickname', 'Runoob')\n",
      "site =  {'name': '菜鸟教程', 'alexa': 10000}\n"
     ]
    }
   ],
   "source": [
    "site= {'name': '菜鸟教程', 'alexa': 10000, 'url': 'www.runoob.com'}\n",
    "\n",
    "# ('url': 'www.runoob.com') 最后插入会被删除\n",
    "result = site.popitem()\n",
    "\n",
    "print('返回值 = ', result)\n",
    "print('site = ', site)\n",
    "\n",
    "# 插入新元素\n",
    "site['nickname'] = 'Runoob'\n",
    "print('site = ', site)\n",
    "\n",
    "# 现在 ('nickname', 'Runoob') 是最后插入的元素\n",
    "result = site.popitem()\n",
    "\n",
    "print('返回值 = ', result)\n",
    "print('site = ', site)"
   ]
  },
  {
   "cell_type": "markdown",
   "metadata": {},
   "source": [
    "字典：update()\n",
    "\n",
    "用 update 更新字典 a，会有两种情况：\n",
    "\n",
    " （1）有相同的键时：会使用最新的字典 b 中 该 key 对应的 value 值。\n",
    " \n",
    " （2）有新的键时：会直接把字典 b 中的 key、value 加入到 a 中。"
   ]
  },
  {
   "cell_type": "code",
   "execution_count": 3,
   "metadata": {},
   "outputs": [
    {
     "name": "stdout",
     "output_type": "stream",
     "text": [
      "Value : {'Name': 'Zara', 'Age': 7, 'Sex': 'female'}\n",
      "{'a': 1, 'b': 2, 'c': 30}\n"
     ]
    }
   ],
   "source": [
    "tinydict = {'Name': 'Zara', 'Age': 7}\n",
    "tinydict2 = {'Sex': 'female' }\n",
    "\n",
    "tinydict.update(tinydict2)          \n",
    "print (\"Value : %s\" % tinydict)\n",
    "\n",
    "\n",
    "a = {'a':1, 'b':2, 'c':3}\n",
    "b = {'c':30}\n",
    "\n",
    "a.update(b)\n",
    "print(a)"
   ]
  }
 ],
 "metadata": {
  "kernelspec": {
   "display_name": "Python 3",
   "language": "python",
   "name": "python3"
  },
  "language_info": {
   "codemirror_mode": {
    "name": "ipython",
    "version": 3
   },
   "file_extension": ".py",
   "mimetype": "text/x-python",
   "name": "python",
   "nbconvert_exporter": "python",
   "pygments_lexer": "ipython3",
   "version": "3.11.4"
  },
  "orig_nbformat": 4
 },
 "nbformat": 4,
 "nbformat_minor": 2
}
