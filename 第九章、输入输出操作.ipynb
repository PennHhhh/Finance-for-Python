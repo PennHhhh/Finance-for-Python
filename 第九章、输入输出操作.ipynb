{
 "cells": [
  {
   "cell_type": "markdown",
   "metadata": {},
   "source": [
    "### Python的基本I/O"
   ]
  },
  {
   "cell_type": "markdown",
   "metadata": {},
   "source": [
    "将对象写入磁盘"
   ]
  },
  {
   "cell_type": "code",
   "execution_count": 28,
   "metadata": {},
   "outputs": [],
   "source": [
    "import numpy as np\n",
    "import pandas as pd\n",
    "from pylab import mpl,plt\n",
    "plt.style.use('seaborn-v0_8')\n",
    "mpl.rcParams['font.family'] = 'serif'\n",
    "%matplotlib inline"
   ]
  },
  {
   "cell_type": "code",
   "execution_count": 29,
   "metadata": {},
   "outputs": [],
   "source": [
    "import pickle\n",
    "import numpy as np\n",
    "from random import gauss"
   ]
  },
  {
   "cell_type": "code",
   "execution_count": 30,
   "metadata": {},
   "outputs": [],
   "source": [
    "a = [gauss(1.5, 2) for i in range(1000000)]\n",
    "path = r'C:\\Users\\ORANGE\\Desktop\\文件\\software\\pyhton\\Finace for python\\code\\path\\a'\n",
    "pkl_file = open(path + 'data.pkl', 'wb')"
   ]
  },
  {
   "cell_type": "code",
   "execution_count": 31,
   "metadata": {},
   "outputs": [
    {
     "name": "stdout",
     "output_type": "stream",
     "text": [
      "CPU times: total: 15.6 ms\n",
      "Wall time: 37.9 ms\n"
     ]
    }
   ],
   "source": [
    "%time pickle.dump(a, pkl_file)          # 序列化对象a, 并将其保存到文件"
   ]
  },
  {
   "cell_type": "code",
   "execution_count": 32,
   "metadata": {},
   "outputs": [],
   "source": [
    "pkl_file.close()"
   ]
  },
  {
   "cell_type": "code",
   "execution_count": 33,
   "metadata": {},
   "outputs": [],
   "source": [
    "pkl_file = open(path + 'data.pkl', 'rb')    # 为二进制读模式(rb)打开文件"
   ]
  },
  {
   "cell_type": "code",
   "execution_count": 34,
   "metadata": {},
   "outputs": [
    {
     "name": "stdout",
     "output_type": "stream",
     "text": [
      "CPU times: total: 141 ms\n",
      "Wall time: 144 ms\n"
     ]
    }
   ],
   "source": [
    "%time b = pickle.load(pkl_file)             # 从磁盘读取对象并反序列化"
   ]
  },
  {
   "cell_type": "code",
   "execution_count": 35,
   "metadata": {},
   "outputs": [
    {
     "data": {
      "text/plain": [
       "[0.23786132921228287, 0.6651850411767055, 1.4294019552299093]"
      ]
     },
     "execution_count": 35,
     "metadata": {},
     "output_type": "execute_result"
    }
   ],
   "source": [
    "a[:3]"
   ]
  },
  {
   "cell_type": "code",
   "execution_count": 36,
   "metadata": {},
   "outputs": [
    {
     "data": {
      "text/plain": [
       "[0.23786132921228287, 0.6651850411767055, 1.4294019552299093]"
      ]
     },
     "execution_count": 36,
     "metadata": {},
     "output_type": "execute_result"
    }
   ],
   "source": [
    "b[:3]"
   ]
  },
  {
   "cell_type": "code",
   "execution_count": 37,
   "metadata": {},
   "outputs": [
    {
     "data": {
      "text/plain": [
       "True"
      ]
     },
     "execution_count": 37,
     "metadata": {},
     "output_type": "execute_result"
    }
   ],
   "source": [
    "np.allclose(np.array(a), np.array(b))       # 将a、b转化为ndarray对象，np.allclose()验证两个对象是否包含相同数据"
   ]
  },
  {
   "cell_type": "code",
   "execution_count": 38,
   "metadata": {},
   "outputs": [],
   "source": [
    "pkl_file = open(path + 'data.pkl', 'wb')    # Python中的文件操作，用于打开一个文件并准备写入二进制数据。'data.pkl'是文件名，'path'是文件的路径，'wb'表示以二进制写入模式打开文件。\n",
    "\n",
    "pickle.dump(np.array(a), pkl_file)\n",
    "pickle.dump(np.array(a) ** 2, pkl_file)\n",
    "\n",
    "pkl_file.close()"
   ]
  },
  {
   "cell_type": "code",
   "execution_count": 39,
   "metadata": {},
   "outputs": [
    {
     "name": "stdout",
     "output_type": "stream",
     "text": [
      "[ 0.23786133  0.66518504  1.42940196 -0.35508787]\n",
      "[0.05657801 0.44247114 2.04318995 0.1260874 ]\n"
     ]
    }
   ],
   "source": [
    "pkl_file = open(path + 'data.pkl', 'rb')\n",
    "\n",
    "x = pickle.load(pkl_file)                   # 检索保存第一个对象 \n",
    "\n",
    "y = pickle.load(pkl_file)                   # 检索保存第二个对象\n",
    "\n",
    "print(x[:4])\n",
    "print(y[:4])\n",
    "\n",
    "pkl_file.close()"
   ]
  },
  {
   "cell_type": "markdown",
   "metadata": {},
   "source": [
    "pickle按照先进先出（FIFO）原则保存对象，没有任何可用的元信息可以让用户事先指导保存在pickle的文件是什么"
   ]
  },
  {
   "cell_type": "markdown",
   "metadata": {},
   "source": [
    "改进：存储包含所有其他对象的字典对象"
   ]
  },
  {
   "cell_type": "code",
   "execution_count": 40,
   "metadata": {},
   "outputs": [],
   "source": [
    "pkl_file = open(path + 'data.pkl', 'wb')\n",
    "\n",
    "pickle.dump({'x': x, 'y': y}, pkl_file)\n",
    "\n",
    "pkl_file.close()"
   ]
  },
  {
   "cell_type": "code",
   "execution_count": 41,
   "metadata": {},
   "outputs": [
    {
     "name": "stdout",
     "output_type": "stream",
     "text": [
      "x [ 0.23786133  0.66518504  1.42940196 -0.35508787]\n",
      "y [0.05657801 0.44247114 2.04318995 0.1260874 ]\n"
     ]
    }
   ],
   "source": [
    "pkl_file = open(path + 'data.pkl', 'rb')\n",
    "\n",
    "data = pickle.load(pkl_file)\n",
    "\n",
    "pkl_file.close()\n",
    "\n",
    "for key in data.keys():\n",
    "    print(key, data[key][:4])"
   ]
  },
  {
   "cell_type": "markdown",
   "metadata": {},
   "source": [
    "读取和写入文本文件"
   ]
  },
  {
   "cell_type": "code",
   "execution_count": 42,
   "metadata": {},
   "outputs": [],
   "source": [
    "import pandas as pd\n",
    "\n",
    "rows = 5000\n",
    "a = np.random.standard_normal((rows, 5)).round(4)\n",
    "t = pd.date_range(start='2019-01-01', periods=rows, freq='H')\n",
    "\n",
    "csv_file = open(path + 'data.csv', 'w')\n",
    "header = 'date,no1,no2,no3,no4,no5\\n'                   # 定义标题行（列标签），并将其作为第一行写入\n",
    "csv_file.write(header)\n",
    "\n",
    "for t_, (no1, no2, no3, no4, no5) in zip(t, a):\n",
    "    s = '{}, {}, {}, {}, {}, {}\\n'.format(t_, no1, no2, no3, no4, no5)\n",
    "    csv_file.write(s)\n",
    "\n",
    "csv_file.close()\n"
   ]
  },
  {
   "cell_type": "code",
   "execution_count": 44,
   "metadata": {},
   "outputs": [
    {
     "name": "stdout",
     "output_type": "stream",
     "text": [
      "date,no1,no2,no3,no4,no5\n",
      "2019-01-01 00:00:00, 1.2522, -1.4052, 2.1056, 0.2185, -0.5536\n",
      "2019-01-01 01:00:00, -0.3724, 0.0523, -2.0083, 0.794, 0.3349\n",
      "2019-01-01 02:00:00, -0.7103, -0.5245, -0.6093, -0.6162, -0.2022\n",
      "2019-01-01 03:00:00, -0.2127, -0.0345, -0.3709, -1.8965, -0.769\n"
     ]
    }
   ],
   "source": [
    "csv_file = open(path + 'data.csv', 'r')\n",
    "\n",
    "for i in range(5):\n",
    "    print(csv_file.readline(), end='')\n",
    "\n",
    "csv_file.close()"
   ]
  },
  {
   "cell_type": "code",
   "execution_count": 48,
   "metadata": {},
   "outputs": [
    {
     "name": "stdout",
     "output_type": "stream",
     "text": [
      "['date,no1,no2,no3,no4,no5\\n', '2019-01-01 00:00:00, 1.2522, -1.4052, 2.1056, 0.2185, -0.5536\\n', '2019-01-01 01:00:00, -0.3724, 0.0523, -2.0083, 0.794, 0.3349\\n', '2019-01-01 02:00:00, -0.7103, -0.5245, -0.6093, -0.6162, -0.2022\\n', '2019-01-01 03:00:00, -0.2127, -0.0345, -0.3709, -1.8965, -0.769\\n']\n"
     ]
    }
   ],
   "source": [
    "csv_file = open(path + 'data.csv', 'r')\n",
    "\n",
    "content = csv_file.readlines()\n",
    "\n",
    "print(content[:5])\n",
    "\n",
    "csv_file.close()"
   ]
  },
  {
   "cell_type": "code",
   "execution_count": 49,
   "metadata": {},
   "outputs": [
    {
     "data": {
      "text/plain": [
       "[['date', 'no1', 'no2', 'no3', 'no4', 'no5'],\n",
       " ['2019-01-01 00:00:00',\n",
       "  ' 1.2522',\n",
       "  ' -1.4052',\n",
       "  ' 2.1056',\n",
       "  ' 0.2185',\n",
       "  ' -0.5536'],\n",
       " ['2019-01-01 01:00:00',\n",
       "  ' -0.3724',\n",
       "  ' 0.0523',\n",
       "  ' -2.0083',\n",
       "  ' 0.794',\n",
       "  ' 0.3349'],\n",
       " ['2019-01-01 02:00:00',\n",
       "  ' -0.7103',\n",
       "  ' -0.5245',\n",
       "  ' -0.6093',\n",
       "  ' -0.6162',\n",
       "  ' -0.2022'],\n",
       " ['2019-01-01 03:00:00',\n",
       "  ' -0.2127',\n",
       "  ' -0.0345',\n",
       "  ' -0.3709',\n",
       "  ' -1.8965',\n",
       "  ' -0.769']]"
      ]
     },
     "execution_count": 49,
     "metadata": {},
     "output_type": "execute_result"
    }
   ],
   "source": [
    "import csv\n",
    "\n",
    "with open(path + 'data.csv', 'r') as f:\n",
    "    csv_reader = csv.reader(f)              # csv.reader()将每一行当成一个列表对象返回\n",
    "    lines = [line for line in csv_reader]\n",
    "\n",
    "lines[:5]"
   ]
  },
  {
   "cell_type": "code",
   "execution_count": 50,
   "metadata": {},
   "outputs": [
    {
     "data": {
      "text/plain": [
       "[{'date': '2019-01-01 00:00:00',\n",
       "  'no1': ' 1.2522',\n",
       "  'no2': ' -1.4052',\n",
       "  'no3': ' 2.1056',\n",
       "  'no4': ' 0.2185',\n",
       "  'no5': ' -0.5536'},\n",
       " {'date': '2019-01-01 01:00:00',\n",
       "  'no1': ' -0.3724',\n",
       "  'no2': ' 0.0523',\n",
       "  'no3': ' -2.0083',\n",
       "  'no4': ' 0.794',\n",
       "  'no5': ' 0.3349'},\n",
       " {'date': '2019-01-01 02:00:00',\n",
       "  'no1': ' -0.7103',\n",
       "  'no2': ' -0.5245',\n",
       "  'no3': ' -0.6093',\n",
       "  'no4': ' -0.6162',\n",
       "  'no5': ' -0.2022'}]"
      ]
     },
     "execution_count": 50,
     "metadata": {},
     "output_type": "execute_result"
    }
   ],
   "source": [
    "with open(path + 'data.csv', 'r') as f:\n",
    "    csv_reader = csv.DictReader(f)                  # csv.DictReader()将每一行当成OrderedDict（有序字典）返回对象，该对象是字典对象的特例\n",
    "    lines = [line for line in csv_reader]\n",
    "\n",
    "lines[:3]"
   ]
  },
  {
   "cell_type": "markdown",
   "metadata": {},
   "source": [
    "使用SQL数据库"
   ]
  },
  {
   "cell_type": "code",
   "execution_count": 55,
   "metadata": {},
   "outputs": [
    {
     "data": {
      "text/plain": [
       "[('table',\n",
       "  'numbs',\n",
       "  'numbs',\n",
       "  2,\n",
       "  'CREATE TABLE numbs (Date date, No1 real, No2 real)')]"
      ]
     },
     "execution_count": 55,
     "metadata": {},
     "output_type": "execute_result"
    }
   ],
   "source": [
    "import sqlite3 as sq3\n",
    "\n",
    "con = sq3.connect(path + 'numbs.db')                                # 打开一个数据库连接；创建一个文件（如果不存在）\n",
    "query = 'CREATE TABLE numbs (Date date, No1 real, No2 real)'        # SQL查询创建一个包含3列的表\n",
    "con.execute(query)                                                  # 执行查询\n",
    "con.commit()                                                        # 提交更改\n",
    "q = con.execute                                                     # 为con.execute()方法定义一个短别名\n",
    "q('select * from sqlite_master').fetchall()"
   ]
  },
  {
   "cell_type": "code",
   "execution_count": 56,
   "metadata": {},
   "outputs": [
    {
     "data": {
      "text/plain": [
       "<sqlite3.Cursor at 0x17921ff8c40>"
      ]
     },
     "execution_count": 56,
     "metadata": {},
     "output_type": "execute_result"
    }
   ],
   "source": [
    "import datetime\n",
    "\n",
    "now = datetime.datetime.now()\n",
    "q('Insert into numbs values(?, ?, ?)', (now, 0.12, 7.3))"
   ]
  }
 ],
 "metadata": {
  "kernelspec": {
   "display_name": "Python 3",
   "language": "python",
   "name": "python3"
  },
  "language_info": {
   "codemirror_mode": {
    "name": "ipython",
    "version": 3
   },
   "file_extension": ".py",
   "mimetype": "text/x-python",
   "name": "python",
   "nbconvert_exporter": "python",
   "pygments_lexer": "ipython3",
   "version": "3.11.4"
  }
 },
 "nbformat": 4,
 "nbformat_minor": 2
}
