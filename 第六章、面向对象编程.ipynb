{
 "cells": [
  {
   "cell_type": "markdown",
   "metadata": {},
   "source": [
    "### python对象简介"
   ]
  },
  {
   "cell_type": "markdown",
   "metadata": {},
   "source": [
    "int"
   ]
  },
  {
   "cell_type": "code",
   "execution_count": 10,
   "metadata": {},
   "outputs": [
    {
     "name": "stdout",
     "output_type": "stream",
     "text": [
      "<class 'int'>\n",
      "5\n",
      "3\n",
      "10 10\n",
      "28\n"
     ]
    }
   ],
   "source": [
    "n = 5\n",
    "\n",
    "print(type(n))\n",
    "print(n.numerator)\n",
    "print(n.bit_length())\n",
    "print(n+n, 2*n)\n",
    "print(n.__sizeof__())           # 调用特殊方法__sizeof__获得内存使用量，以字节为单位\n"
   ]
  },
  {
   "cell_type": "markdown",
   "metadata": {},
   "source": [
    "list"
   ]
  },
  {
   "cell_type": "code",
   "execution_count": 9,
   "metadata": {},
   "outputs": [
    {
     "name": "stdout",
     "output_type": "stream",
     "text": [
      "<class 'list'>\n",
      "1\n",
      "[1, 2, 3, 4, 10, 1, 2, 3, 4, 10]\n",
      "[1, 2, 3, 4, 10, 1, 2, 3, 4, 10]\n",
      "20\n",
      "104\n"
     ]
    }
   ],
   "source": [
    "l = [1, 2, 3, 4]\n",
    "\n",
    "print(type(l))\n",
    "print(l[0])\n",
    "\n",
    "l.append(10)\n",
    "print(l+l)\n",
    "print(2*l)\n",
    "print(sum(l))\n",
    "print(l.__sizeof__())"
   ]
  },
  {
   "cell_type": "markdown",
   "metadata": {},
   "source": [
    "ndarray"
   ]
  },
  {
   "cell_type": "code",
   "execution_count": 20,
   "metadata": {},
   "outputs": [
    {
     "name": "stdout",
     "output_type": "stream",
     "text": [
      "<class 'numpy.ndarray'>\n",
      "64\n",
      "120\n",
      "[[ 0  1  2  3]\n",
      " [ 4  6  8 10]\n",
      " [12 15 18 21]\n",
      " [24 28 32 36]]\n",
      "[[ 0  2  4  6]\n",
      " [ 8 10 12 14]\n",
      " [16 18 20 22]\n",
      " [24 26 28 30]]\n",
      "------------------------------\n",
      "120\n",
      "[24 28 32 36]\n",
      "120\n",
      "128\n"
     ]
    }
   ],
   "source": [
    "import numpy as np\n",
    "\n",
    "a = np.arange(16).reshape((4,4))\n",
    "print(type(a))\n",
    "print(a.nbytes)\n",
    "print(a.sum())                  # 有聚合\n",
    "print(a.cumsum(axis=0))         # 无聚合\n",
    "print(a+a)\n",
    "\n",
    "print('-'*30)\n",
    "\n",
    "print(a.sum())                  \n",
    "    # print(a.sum()): 这行代码是在使用Pandas库的DataFrame或Series对象时，计算其所有元素的和。在这里，a应该是一个Pandas的DataFrame或Series对象\n",
    "print(sum(a))                   \n",
    "    # print(sum(a)): 这行代码是在使用Python内置的sum()函数，它对输入的序列（例如列表，元组等）的所有元素进行求和。在这里，a应该是一个可以迭代的对象，例如列表、元组、字符串等\n",
    "print(np.sum(a))\n",
    "    # print(np.sum(a)): 这行代码是在使用Numpy库的sum()函数，它对输入的数组的所有元素进行求和。在这里，a应该是一个Numpy的数组对象\n",
    "print(a.__sizeof__())"
   ]
  },
  {
   "cell_type": "markdown",
   "metadata": {},
   "source": [
    "DataFrame"
   ]
  },
  {
   "cell_type": "code",
   "execution_count": 27,
   "metadata": {},
   "outputs": [
    {
     "name": "stdout",
     "output_type": "stream",
     "text": [
      "    a   b   c   d\n",
      "0   0   1   2   3\n",
      "1   4   5   6   7\n",
      "2   8   9  10  11\n",
      "3  12  13  14  15\n",
      "<class 'pandas.core.frame.DataFrame'>\n",
      "Index(['a', 'b', 'c', 'd'], dtype='object')\n",
      "a    24\n",
      "b    28\n",
      "c    32\n",
      "d    36\n",
      "dtype: int64\n",
      "    a   b   c   d\n",
      "0   0   1   2   3\n",
      "1   4   6   8  10\n",
      "2  12  15  18  21\n",
      "3  24  28  32  36\n",
      "------------------------------\n",
      "    a   b   c   d\n",
      "0   0   2   4   6\n",
      "1   8  10  12  14\n",
      "2  16  18  20  22\n",
      "3  24  26  28  30\n",
      "    a   b   c   d\n",
      "0   0   2   4   6\n",
      "1   8  10  12  14\n",
      "2  16  18  20  22\n",
      "3  24  26  28  30\n",
      "a    24\n",
      "b    28\n",
      "c    32\n",
      "d    36\n",
      "dtype: int64\n",
      "196\n"
     ]
    }
   ],
   "source": [
    "import pandas as pd\n",
    "import numpy as np\n",
    "\n",
    "a = np.arange(16).reshape((4,4))\n",
    "df = pd.DataFrame(a, columns=list('abcd'))\n",
    "\n",
    "print(df)\n",
    "print(type(df))\n",
    "print(df.columns)\n",
    "print(df.sum())\n",
    "print(df.cumsum())\n",
    "\n",
    "print('-'*30)\n",
    "\n",
    "print(df + df)\n",
    "print(2 * df)\n",
    "print(np.sum(df))\n",
    "print(df.__sizeof__())"
   ]
  },
  {
   "cell_type": "markdown",
   "metadata": {},
   "source": [
    "### python 类基础知识"
   ]
  },
  {
   "cell_type": "code",
   "execution_count": 10,
   "metadata": {},
   "outputs": [
    {
     "data": {
      "text/plain": [
       "105"
      ]
     },
     "execution_count": 10,
     "metadata": {},
     "output_type": "execute_result"
    }
   ],
   "source": [
    "class FinancialInstrument(object):\n",
    "    def __init__(self, symbol, price):\n",
    "        self.symbol = symbol\n",
    "        self.__price = price\n",
    "    \n",
    "    def get_price(self):\n",
    "        return self.__price\n",
    "    \n",
    "    def set_price(self, price):\n",
    "        self.__price = price\n",
    "            # 这段代码是设置一个类的实例变量price的值。\n",
    "            # self.__price = price是一种常见的在Python类中设置私有变量的方式。\n",
    "            # 在这个语句中，self是对当前实例的引用，__price是私有变量。私有变量（通常以双下划线前缀命名）通常用于存储不想被外部访问的数据             \n",
    "\n",
    "class PortfolioPosition(object):\n",
    "\n",
    "    def __init__(self, financial_instrument, position_size):\n",
    "        self.position = financial_instrument\n",
    "        self.__position_size = position_size\n",
    "    \n",
    "    def get_position_size(self):\n",
    "        return self.__position_size\n",
    "    \n",
    "    def update_position_size(self, position_size):\n",
    "        self.__position_size = position_size\n",
    "\n",
    "    def get_position_value(self):\n",
    "        return self.__position_size * \\\n",
    "               self.position.get_price()\n",
    "\n",
    "fi = FinancialInstrument('AAPL', 100)\n",
    "\n",
    "pp = PortfolioPosition(fi, 10)\n",
    "\n",
    "pp.get_position_size()\n",
    "\n",
    "pp.get_position_value()\n",
    "\n",
    "pp.position.get_price()\n",
    "\n",
    "pp.position.set_price(105)\n",
    "\n",
    "pp.position.get_price()"
   ]
  },
  {
   "cell_type": "markdown",
   "metadata": {},
   "source": [
    "### python 数据模型"
   ]
  },
  {
   "cell_type": "markdown",
   "metadata": {},
   "source": [
    "在Python 2中，所有的类都是从object继承而来的，因此在定义经典类时可以省略object。\n",
    "\n",
    "但是，在Python 3中，不继承object的类被称为“抽象基类”（Abstract Base Class，简称ABC）。在这种情况下，必须使用abc模块来定义抽象基类，并且需要实现一些特殊的方法（如__subclasshook__和__init_subclass__）。\n",
    "\n",
    "因此，为了避免潜在的问题，建议在Python 3中定义类时，最好继承自object"
   ]
  },
  {
   "cell_type": "code",
   "execution_count": 2,
   "metadata": {},
   "outputs": [
    {
     "data": {
      "text/plain": [
       "True"
      ]
     },
     "execution_count": 2,
     "metadata": {},
     "output_type": "execute_result"
    }
   ],
   "source": [
    "class Vector(object):\n",
    "    def __init__(self, x=0, y=0, z=0):\n",
    "        self.x = x\n",
    "        self.y = y\n",
    "        self.z = z\n",
    "\n",
    "class Vector(Vector):\n",
    "    def __repr__(self):\n",
    "        # return f'Vector({self.x, self.y, self.z})' \n",
    "        return 'Vector(%r, %r, %r)' % (self.x, self.y, self.z)\n",
    "\n",
    "    def __abs__(self):\n",
    "        return (self.x ** 2 + self.y ** 2 + self.z ** 2) ** 0.5         # 三个属性值的欧几里得范数\n",
    "\n",
    "    def __bool__(self):\n",
    "        return bool(abs(self))\n",
    "\n",
    "v = Vector(1, 2, -1)\n",
    "abs(v)\n",
    "bool(v)"
   ]
  },
  {
   "cell_type": "code",
   "execution_count": 7,
   "metadata": {},
   "outputs": [
    {
     "data": {
      "text/plain": [
       "Vector(5, 10, 15)"
      ]
     },
     "execution_count": 7,
     "metadata": {},
     "output_type": "execute_result"
    }
   ],
   "source": [
    "class Vector(Vector):\n",
    "    \n",
    "    def __add__(self, other):\n",
    "        x = self.x + other.x\n",
    "        y = self.y + other.y\n",
    "        z = self.z + other.z\n",
    "        return Vector(x, y, z)\n",
    "\n",
    "    def __mul__(self, scalar):\n",
    "        return Vector(self.x * scalar,\n",
    "                      self.y * scalar,\n",
    "                      self.z * scalar)\n",
    "\n",
    "v = Vector(1, 2, 3)\n",
    "# v + Vector(2, 3, 4)\n",
    "# v * 2\n",
    "v.__add__(Vector(2,3,4))\n",
    "v.__mul__(5)"
   ]
  },
  {
   "cell_type": "code",
   "execution_count": 34,
   "metadata": {},
   "outputs": [
    {
     "name": "stdout",
     "output_type": "stream",
     "text": [
      "3\n",
      "1\n",
      "2\n",
      "3\n"
     ]
    },
    {
     "ename": "IndexError",
     "evalue": "Index out of range",
     "output_type": "error",
     "traceback": [
      "\u001b[1;31m---------------------------------------------------------------------------\u001b[0m",
      "\u001b[1;31mIndexError\u001b[0m                                Traceback (most recent call last)",
      "\u001b[1;32mc:\\Users\\ORANGE\\Desktop\\文件\\software\\pyhton\\Finace for python\\code\\第六章、面向对象编程.ipynb Cell 16\u001b[0m line \u001b[0;36m1\n\u001b[0;32m     <a href='vscode-notebook-cell:/c%3A/Users/ORANGE/Desktop/%E6%96%87%E4%BB%B6/software/pyhton/Finace%20for%20python/code/%E7%AC%AC%E5%85%AD%E7%AB%A0%E3%80%81%E9%9D%A2%E5%90%91%E5%AF%B9%E8%B1%A1%E7%BC%96%E7%A8%8B.ipynb#X22sZmlsZQ%3D%3D?line=15'>16</a>\u001b[0m \u001b[39mprint\u001b[39m(v[\u001b[39m-\u001b[39m\u001b[39m2\u001b[39m])\n\u001b[0;32m     <a href='vscode-notebook-cell:/c%3A/Users/ORANGE/Desktop/%E6%96%87%E4%BB%B6/software/pyhton/Finace%20for%20python/code/%E7%AC%AC%E5%85%AD%E7%AB%A0%E3%80%81%E9%9D%A2%E5%90%91%E5%AF%B9%E8%B1%A1%E7%BC%96%E7%A8%8B.ipynb#X22sZmlsZQ%3D%3D?line=16'>17</a>\u001b[0m \u001b[39mprint\u001b[39m(v[\u001b[39m-\u001b[39m\u001b[39m1\u001b[39m])\n\u001b[1;32m---> <a href='vscode-notebook-cell:/c%3A/Users/ORANGE/Desktop/%E6%96%87%E4%BB%B6/software/pyhton/Finace%20for%20python/code/%E7%AC%AC%E5%85%AD%E7%AB%A0%E3%80%81%E9%9D%A2%E5%90%91%E5%AF%B9%E8%B1%A1%E7%BC%96%E7%A8%8B.ipynb#X22sZmlsZQ%3D%3D?line=17'>18</a>\u001b[0m \u001b[39mprint\u001b[39m(v[\u001b[39m3\u001b[39;49m])\n",
      "\u001b[1;32mc:\\Users\\ORANGE\\Desktop\\文件\\software\\pyhton\\Finace for python\\code\\第六章、面向对象编程.ipynb Cell 16\u001b[0m line \u001b[0;36m1\n\u001b[0;32m      <a href='vscode-notebook-cell:/c%3A/Users/ORANGE/Desktop/%E6%96%87%E4%BB%B6/software/pyhton/Finace%20for%20python/code/%E7%AC%AC%E5%85%AD%E7%AB%A0%E3%80%81%E9%9D%A2%E5%90%91%E5%AF%B9%E8%B1%A1%E7%BC%96%E7%A8%8B.ipynb#X22sZmlsZQ%3D%3D?line=7'>8</a>\u001b[0m \u001b[39melif\u001b[39;00m i \u001b[39min\u001b[39;00m [\u001b[39m1\u001b[39m, \u001b[39m-\u001b[39m\u001b[39m2\u001b[39m] : \u001b[39mreturn\u001b[39;00m \u001b[39mself\u001b[39m\u001b[39m.\u001b[39my\n\u001b[0;32m      <a href='vscode-notebook-cell:/c%3A/Users/ORANGE/Desktop/%E6%96%87%E4%BB%B6/software/pyhton/Finace%20for%20python/code/%E7%AC%AC%E5%85%AD%E7%AB%A0%E3%80%81%E9%9D%A2%E5%90%91%E5%AF%B9%E8%B1%A1%E7%BC%96%E7%A8%8B.ipynb#X22sZmlsZQ%3D%3D?line=8'>9</a>\u001b[0m \u001b[39melif\u001b[39;00m i \u001b[39min\u001b[39;00m [\u001b[39m2\u001b[39m, \u001b[39m-\u001b[39m\u001b[39m1\u001b[39m] : \u001b[39mreturn\u001b[39;00m \u001b[39mself\u001b[39m\u001b[39m.\u001b[39mz\n\u001b[1;32m---> <a href='vscode-notebook-cell:/c%3A/Users/ORANGE/Desktop/%E6%96%87%E4%BB%B6/software/pyhton/Finace%20for%20python/code/%E7%AC%AC%E5%85%AD%E7%AB%A0%E3%80%81%E9%9D%A2%E5%90%91%E5%AF%B9%E8%B1%A1%E7%BC%96%E7%A8%8B.ipynb#X22sZmlsZQ%3D%3D?line=9'>10</a>\u001b[0m \u001b[39melse\u001b[39;00m: \u001b[39mraise\u001b[39;00m \u001b[39mIndexError\u001b[39;00m(\u001b[39m'\u001b[39m\u001b[39mIndex out of range\u001b[39m\u001b[39m'\u001b[39m)\n",
      "\u001b[1;31mIndexError\u001b[0m: Index out of range"
     ]
    }
   ],
   "source": [
    "class Vector(Vector):\n",
    "\n",
    "    def __len__(self):\n",
    "        return 3\n",
    "\n",
    "    def __getitem__(self, i):       # __getitem__方法使得类的实例可以像列表一样被索引\n",
    "        if i in [0, -3] : \n",
    "            return self.x\n",
    "        elif i in [1, -2] : \n",
    "            return self.y\n",
    "        elif i in [2, -1] : \n",
    "            return self.z\n",
    "        else: \n",
    "            raise IndexError('Index out of range')\n",
    "\n",
    "v = Vector(1, 2, 3)\n",
    "\n",
    "print(len(v))\n",
    "print(v[0])\n",
    "print(v[-2])\n",
    "print(v[-1])\n",
    "print(v[3])"
   ]
  },
  {
   "cell_type": "code",
   "execution_count": 35,
   "metadata": {},
   "outputs": [
    {
     "name": "stdout",
     "output_type": "stream",
     "text": [
      "1\n",
      "2\n",
      "3\n",
      "1\n",
      "2\n",
      "3\n"
     ]
    }
   ],
   "source": [
    "class Vector(Vector):\n",
    "\n",
    "    def __iter__(self):\n",
    "        for i in range(len(self)):\n",
    "            yield self[i]\n",
    "\n",
    "v = Vector(1, 2, 3)\n",
    "\n",
    "for i in range(3):          # 通过索引值间接迭代(__getitem__)\n",
    "    print(v[i])\n",
    "\n",
    "for coordinate in v:        # 在类实例上直接迭代(__iter__)\n",
    "    print(coordinate)"
   ]
  },
  {
   "cell_type": "markdown",
   "metadata": {},
   "source": [
    "### Vector 类"
   ]
  },
  {
   "cell_type": "code",
   "execution_count": 36,
   "metadata": {},
   "outputs": [],
   "source": [
    "class Vector(object):\n",
    "\n",
    "    def __init__(self, x=0, y=0, z=0):\n",
    "        self.x = x\n",
    "        self.y = y\n",
    "        self.z = z\n",
    "\n",
    "    def __repr__(self):\n",
    "        return 'Vector(%r, %r, %r)' % (self.x, self.y, self.z)\n",
    "\n",
    "    def __abs__(self):\n",
    "        return (self.x ** 2 + self.y ** 2 + self.z ** 2) ** 0.5\n",
    "\n",
    "    def __bool__(self):\n",
    "        return bool(abs(self))\n",
    "\n",
    "    def __add__(self, other):\n",
    "        x = self.x + other.x\n",
    "        y = self.y + other.y\n",
    "        z = self.z + other.z\n",
    "        return Vector(x, y, z)\n",
    "\n",
    "    def __mul__(self, scalar):\n",
    "        return Vector(self.x * scalar,\n",
    "                      self.y * scalar,\n",
    "                      self.z * scalar)\n",
    "    \n",
    "    def __len__(self):\n",
    "        return 3\n",
    "\n",
    "    def __getitem__(self):\n",
    "        if i in [0, -3]:\n",
    "            return self.x\n",
    "        elif i in [1, -2]:\n",
    "            return self.y\n",
    "        elif i in [2,-1]:\n",
    "            return self.z\n",
    "        else:\n",
    "            raise IndexError('Index out of range.')\n",
    "\n",
    "    def __iter__(self):                         # __iter__方法，它的作用是使得类的实例可迭代\n",
    "        for i in range(len(self)):\n",
    "            yield self[i]"
   ]
  }
 ],
 "metadata": {
  "kernelspec": {
   "display_name": "Python 3",
   "language": "python",
   "name": "python3"
  },
  "language_info": {
   "codemirror_mode": {
    "name": "ipython",
    "version": 3
   },
   "file_extension": ".py",
   "mimetype": "text/x-python",
   "name": "python",
   "nbconvert_exporter": "python",
   "pygments_lexer": "ipython3",
   "version": "3.11.4"
  },
  "orig_nbformat": 4
 },
 "nbformat": 4,
 "nbformat_minor": 2
}
