{
 "cells": [
  {
   "cell_type": "markdown",
   "metadata": {},
   "source": [
    "### 数组"
   ]
  },
  {
   "cell_type": "code",
   "execution_count": 7,
   "metadata": {},
   "outputs": [
    {
     "name": "stdout",
     "output_type": "stream",
     "text": [
      "[[0.5, 0.75, 1.0, 1.5, 2.0], [0.5, 0.75, 1.0, 1.5, 2.0]]\n",
      "[0.5, 0.75, 1.0, 1.5, 2.0]\n",
      "0.5\n",
      "[[[0.5, 1.5], [1, 2]], [[0.5, 1.5], [1, 2]]]\n",
      "1\n"
     ]
    }
   ],
   "source": [
    "v = [0.5, 0.75, 1.0, 1.5, 2.0]\n",
    "m = [v, v]\n",
    "print(m)\n",
    "\n",
    "print(m[1])\n",
    "print(m[1][0])\n",
    "\n",
    "v1 = [0.5, 1.5]\n",
    "v2 = [1, 2]\n",
    "m = [v1, v2]\n",
    "c = [m, m]\n",
    "print(c)\n",
    "print(c[1][1][0])"
   ]
  },
  {
   "cell_type": "code",
   "execution_count": 8,
   "metadata": {},
   "outputs": [
    {
     "name": "stdout",
     "output_type": "stream",
     "text": [
      "[[0.5, 0.75, 1.0, 1.5, 2.0], [0.5, 0.75, 1.0, 1.5, 2.0], [0.5, 0.75, 1.0, 1.5, 2.0]]\n",
      "[['java', 0.75, 1.0, 1.5, 2.0], ['java', 0.75, 1.0, 1.5, 2.0], ['java', 0.75, 1.0, 1.5, 2.0]]\n"
     ]
    }
   ],
   "source": [
    "v = [0.5, 0.75, 1.0, 1.5, 2.0]\n",
    "m = [v, v, v]\n",
    "print(m)\n",
    "\n",
    "v[0] = 'java'\n",
    "print(m)\n",
    "# v的改变会直接作用到m"
   ]
  },
  {
   "cell_type": "markdown",
   "metadata": {},
   "source": [
    "在使用 copy 模块的 deepcopy 函数对某个变量 v 进行深拷贝。deepcopy 函数创建 v 的一个完全独立的副本，这样改变原始 v 的值不会影响到这个副本。"
   ]
  },
  {
   "cell_type": "code",
   "execution_count": 9,
   "metadata": {},
   "outputs": [
    {
     "name": "stdout",
     "output_type": "stream",
     "text": [
      "[[0.5, 0.75, 1.0, 1.5, 2.0], [0.5, 0.75, 1.0, 1.5, 2.0], [0.5, 0.75, 1.0, 1.5, 2.0]]\n",
      "[[0.5, 0.75, 1.0, 1.5, 2.0], [0.5, 0.75, 1.0, 1.5, 2.0], [0.5, 0.75, 1.0, 1.5, 2.0]]\n"
     ]
    }
   ],
   "source": [
    "from copy import deepcopy\n",
    "\n",
    "v = [0.5, 0.75, 1.0, 1.5, 2.0]\n",
    "m = 3 * [deepcopy(v),]              # 代码 m = 3 * [deepcopy(v),] 的意思是创建一个列表，这个列表包含3个元素，每个元素都是对 v 的深复制。\n",
    "print(m)\n",
    "\n",
    "v[0] = 'java'\n",
    "print(m)"
   ]
  },
  {
   "cell_type": "markdown",
   "metadata": {},
   "source": [
    "### array 类"
   ]
  },
  {
   "cell_type": "code",
   "execution_count": 10,
   "metadata": {},
   "outputs": [
    {
     "name": "stdout",
     "output_type": "stream",
     "text": [
      "array('f', [0.5, 0.75, 1.0, 1.5, 2.0])\n",
      "array('f', [0.5, 0.75, 1.0, 1.5, 2.0, 0.5, 6.099999904632568, 9.300000190734863])\n",
      "array('f', [0.5, 0.75, 1.0, 1.5, 2.0, 0.5, 6.099999904632568, 9.300000190734863, 0.5, 0.75, 1.0, 1.5, 2.0, 0.5, 6.099999904632568, 9.300000190734863])\n"
     ]
    },
    {
     "data": {
      "text/plain": [
       "[0.5, 0.75, 1.0, 1.5, 2.0, 0.5, 6.099999904632568, 9.300000190734863]"
      ]
     },
     "execution_count": 10,
     "metadata": {},
     "output_type": "execute_result"
    }
   ],
   "source": [
    "import array\n",
    "\n",
    "v = [0.5, 0.75, 1.0, 1.5, 2.0]\n",
    "a = array.array('f', v)\n",
    "print(a)\n",
    "\n",
    "a.append(0.5)\n",
    "# a.append([7,8])           # must be real number, not list\n",
    "# a.append('str')           # must be real number, not str\n",
    "a.extend([6.1,9.3])\n",
    "print(a)\n",
    "\n",
    "print(2*a)                  # 只是将元素重复，而不是标量乘法\n",
    "\n",
    "a.tolist()\n"
   ]
  },
  {
   "cell_type": "markdown",
   "metadata": {},
   "source": [
    "### Numpy 数组"
   ]
  },
  {
   "cell_type": "code",
   "execution_count": 11,
   "metadata": {},
   "outputs": [
    {
     "name": "stdout",
     "output_type": "stream",
     "text": [
      "[0.  0.5 1.  1.5 2. ]\n",
      "<class 'numpy.ndarray'>\n",
      "['a' 'b' 'c']\n",
      "[ 2  4  6  8 10 12 14 16 18]\n",
      "[5. 6. 7.]\n",
      "[0. 1.]\n",
      "28.0 2.291288 [ 0.  1.  3.  6. 10. 15. 21. 28.]\n"
     ]
    }
   ],
   "source": [
    "import numpy as np\n",
    "\n",
    "a = np.array([0, 0.5, 1.0, 1.5, 2.0])\n",
    "print(a)\n",
    "print(type(a))\n",
    "\n",
    "\n",
    "b = np.array(['a', 'b', 'c'])\n",
    "print(b)\n",
    "\n",
    "c = np.arange(2, 20, 2)\n",
    "print(c)\n",
    "\n",
    "d = np.arange(8, dtype=np.float32) \n",
    "    # module 'numpy' has no attribute 'float'.     \n",
    "    # np.float32是浮点数类型的一种在NumPy中，有几种不同的浮点数类型，包括np.float_, np.float16, np.float32, np.float64等，分别对应不同的精度\n",
    "print(d[5:])\n",
    "print(d[:2])\n",
    "print(d.sum(), d.std(), d.cumsum())\n"
   ]
  },
  {
   "cell_type": "code",
   "execution_count": 12,
   "metadata": {},
   "outputs": [
    {
     "name": "stdout",
     "output_type": "stream",
     "text": [
      "[0, 0.5, 1.0, 1.5, 2.0, 0, 0.5, 1.0, 1.5, 2.0]\n",
      "[0. 1. 2. 3. 4.]\n",
      "[0.   0.25 1.   2.25 4.  ]\n",
      "--------------------\n",
      "[1.         1.64872127 2.71828183 4.48168907 7.3890561 ]\n",
      "[0.         0.70710678 1.         1.22474487 1.41421356]\n",
      "--------------------\n",
      "5.0\n",
      "5.0\n",
      "--------------------\n"
     ]
    },
    {
     "name": "stdout",
     "output_type": "stream",
     "text": [
      "885 ns ± 86.6 ns per loop (mean ± std. dev. of 7 runs, 1,000,000 loops each)\n",
      "117 ns ± 3.48 ns per loop (mean ± std. dev. of 7 runs, 10,000,000 loops each)\n"
     ]
    }
   ],
   "source": [
    "l = [0, 0.5, 1.0, 1.5, 2.0]\n",
    "print(2*l)\n",
    "\n",
    "a = np.array([0, 0.5, 1.0, 1.5, 2.0])\n",
    "print(2*a)\n",
    "print(a**2)\n",
    "\n",
    "print('-'*20)\n",
    "print(np.exp(a))\n",
    "print(np.sqrt(a))   \n",
    "\n",
    "print('-'*20)\n",
    "print(np.sqrt(25))\n",
    "\n",
    "import math\n",
    "print(math.sqrt(25))\n",
    "\n",
    "# print(math.sqrt(a))           # only length-1 arrays can be converted to Python scalars\n",
    "\n",
    "print('-'*20)\n",
    "%timeit np.sqrt(2.5)\n",
    "%timeit math.sqrt(2.5)          # 浮点数运算上math,sqrt()速度快得多"
   ]
  },
  {
   "cell_type": "markdown",
   "metadata": {},
   "source": [
    "多维数组"
   ]
  },
  {
   "cell_type": "code",
   "execution_count": 13,
   "metadata": {},
   "outputs": [
    {
     "name": "stdout",
     "output_type": "stream",
     "text": [
      "[[ 0.  1.  2.  3.  4.  5.  6.  7.]\n",
      " [ 0.  2.  4.  6.  8. 10. 12. 14.]]\n",
      "2.0\n",
      "2.0\n",
      "[1. 2.]\n",
      "[28. 56.]\n",
      "[ 0.  3.  6.  9. 12. 15. 18. 21.]\n"
     ]
    }
   ],
   "source": [
    "a = np.arange(8, dtype=np.float32)\n",
    "b = np.array([a,a*2])\n",
    "print(b)\n",
    "print(b[0][2])\n",
    "print(b[0, 2])\n",
    "print(b[:,1])\n",
    "print(b.sum(axis=1))\n",
    "print(b.sum(axis=0))"
   ]
  },
  {
   "cell_type": "markdown",
   "metadata": {},
   "source": [
    "多维数组的计算\n",
    "\n",
    "括号最大块法有且仅有两步：\n",
    "\n",
    "    第一步：由axis = value，找对应[]里的最大单位块。（np.sum()拆掉此层[]——求总和 ，np.argmax()不拆此层[]——求最大值的索引）\n",
    "\n",
    "    第二步：对单位块进行计算，这里又分为两种情况：\n",
    "\n",
    "        当单位块是数值时，直接计算\n",
    "        当单位块是数组时，对应下标元素进行计算\n",
    "\n",
    "使用axis时，不要越界，即：N维数组，最大能使用axis=N-1\n",
    "\n",
    "https://blog.csdn.net/mahoon411/article/details/114777623"
   ]
  },
  {
   "cell_type": "code",
   "execution_count": 14,
   "metadata": {},
   "outputs": [
    {
     "name": "stdout",
     "output_type": "stream",
     "text": [
      "[[[1 2 3 4]\n",
      "  [1 3 4 5]]\n",
      "\n",
      " [[2 4 7 5]\n",
      "  [8 4 3 5]]\n",
      "\n",
      " [[2 5 7 3]\n",
      "  [1 5 3 7]]]\n",
      "--------------------\n",
      "[[ 5 11 17 12]\n",
      " [10 12 10 17]]\n",
      "--------------------\n",
      "[[ 2  5  7  9]\n",
      " [10  8 10 10]\n",
      " [ 3 10 10 10]]\n",
      "--------------------\n",
      "[[10 13]\n",
      " [18 20]\n",
      " [17 16]]\n"
     ]
    }
   ],
   "source": [
    "b = np.array([[[1,2,3,4],[1,3,4,5]],[[2,4,7,5],[8,4,3,5]],[[2,5,7,3],[1,5,3,7]]])\n",
    "print(b)\n",
    "print('-'*20)\n",
    "print(b.sum(axis=0))\n",
    "print('-'*20)\n",
    "print(b.sum(axis=1))\n",
    "print('-'*20)\n",
    "print(b.sum(axis=2))"
   ]
  },
  {
   "cell_type": "code",
   "execution_count": 15,
   "metadata": {},
   "outputs": [
    {
     "name": "stdout",
     "output_type": "stream",
     "text": [
      "[[0 0 0]\n",
      " [0 0 0]]\n",
      "--------------------\n",
      "[[[1 1 1 1]\n",
      "  [1 1 1 1]\n",
      "  [1 1 1 1]]\n",
      "\n",
      " [[1 1 1 1]\n",
      "  [1 1 1 1]\n",
      "  [1 1 1 1]]]\n",
      "--------------------\n",
      "[[[0. 0. 0. 0.]\n",
      "  [0. 0. 0. 0.]\n",
      "  [0. 0. 0. 0.]]\n",
      "\n",
      " [[0. 0. 0. 0.]\n",
      "  [0. 0. 0. 0.]\n",
      "  [0. 0. 0. 0.]]]\n",
      "--------------------\n",
      "[[[1. 1. 1. 1.]\n",
      "  [1. 1. 1. 1.]\n",
      "  [1. 1. 1. 1.]]\n",
      "\n",
      " [[1. 1. 1. 1.]\n",
      "  [1. 1. 1. 1.]\n",
      "  [1. 1. 1. 1.]]]\n",
      "--------------------\n"
     ]
    }
   ],
   "source": [
    "c = np.zeros((2,3), dtype='i', order='C')   \n",
    "    # dtype='i'：这个参数指定了矩阵中元素的类型为整数。\n",
    "    # order='C'：这个参数指定了内存中矩阵的存储方式。'C'表示按行存储（行优先），这是默认的方式\n",
    "print(c)\n",
    "print('-'*20)\n",
    "\n",
    "c = np.ones((2,3,4), dtype='i', order='C')\n",
    "print(c)\n",
    "print('-'*20)\n",
    "\n",
    "d = np.zeros_like(c, dtype='float16', order='C')\n",
    "print(d)\n",
    "print('-'*20)\n",
    "\n",
    "d = np.ones_like(c, dtype='float16', order='C')\n",
    "print(d)\n",
    "print('-'*20)"
   ]
  },
  {
   "cell_type": "code",
   "execution_count": 16,
   "metadata": {},
   "outputs": [
    {
     "name": "stdout",
     "output_type": "stream",
     "text": [
      "[[[1.09214156e-311 3.16202013e-322]\n",
      "  [0.00000000e+000 0.00000000e+000]\n",
      "  [1.01855798e-312 2.59022031e+184]]\n",
      "\n",
      " [[6.70632198e+170 1.61610505e+160]\n",
      "  [2.00335321e-052 9.16930692e-072]\n",
      "  [1.58770008e-076 5.24648028e+174]]]\n",
      "--------------------\n",
      "[[[-1389032376         514          64           0]\n",
      "  [          0           0           0           0]\n",
      "  [          0          48   808476979  1714971193]]\n",
      "\n",
      " [[ 1680945254  1667642980   912471094  1630692450]\n",
      "  [  811872560   892547125   878798389   825242469]\n",
      "  [  859386677   808608354   845504817  1681208930]]]\n",
      "--------------------\n",
      "[[1. 0. 0. 0. 0.]\n",
      " [0. 1. 0. 0. 0.]\n",
      " [0. 0. 1. 0. 0.]\n",
      " [0. 0. 0. 1. 0.]\n",
      " [0. 0. 0. 0. 1.]]\n",
      "--------------------\n",
      "[ 5.          5.90909091  6.81818182  7.72727273  8.63636364  9.54545455\n",
      " 10.45454545 11.36363636 12.27272727 13.18181818 14.09090909 15.        ]\n"
     ]
    }
   ],
   "source": [
    "e = np.empty((2,3,2))               # np.empty函数创建的是一个未初始化的数组。数组的内容会被填充为某种默认值，这取决于你的数据类型和平台\n",
    "print(e)\n",
    "print('-'*20)\n",
    "\n",
    "f = np.empty_like(c)\n",
    "print(f)\n",
    "print('-'*20)\n",
    "\n",
    "print(np.eye(5))\n",
    "print('-'*20)\n",
    "\n",
    "g = np.linspace(5,15,12)            # np.linspace 是 NumPy 库中的一个函数，用于在指定的间隔内返回均匀间隔的数字。 np.linspace(start, end, num)\n",
    "print(g)"
   ]
  },
  {
   "cell_type": "markdown",
   "metadata": {},
   "source": [
    "# 元信息"
   ]
  },
  {
   "cell_type": "code",
   "execution_count": 17,
   "metadata": {},
   "outputs": [
    {
     "name": "stdout",
     "output_type": "stream",
     "text": [
      "12\n",
      "--------------------\n",
      "8\n",
      "--------------------\n",
      "(12,)\n",
      "--------------------\n",
      "float64\n",
      "--------------------\n",
      "96\n"
     ]
    }
   ],
   "source": [
    "g = np.linspace(5,15,12)   \n",
    "\n",
    "print(g.size)\n",
    "print('-'*20)\n",
    "\n",
    "print(g.itemsize)       # 用于表示一个元素的字节数\n",
    "print('-'*20)\n",
    "\n",
    "print(g.shape)\n",
    "print('-'*20)\n",
    "\n",
    "print(g.dtype)\n",
    "print('-'*20)\n",
    "\n",
    "print(g.nbytes)         # 在内存中使用的字节总数\n"
   ]
  },
  {
   "cell_type": "markdown",
   "metadata": {},
   "source": [
    "改变组成"
   ]
  },
  {
   "cell_type": "code",
   "execution_count": 18,
   "metadata": {},
   "outputs": [
    {
     "name": "stdout",
     "output_type": "stream",
     "text": [
      "[ 0  1  2  3  4  5  6  7  8  9 10 11 12 13 14]\n",
      "--------------------\n",
      "(15,)\n",
      "(15,)\n",
      "--------------------\n",
      "[[ 0  1  2  3  4]\n",
      " [ 5  6  7  8  9]\n",
      " [10 11 12 13 14]]\n",
      "--------------------\n",
      "[[ 0  5 10]\n",
      " [ 1  6 11]\n",
      " [ 2  7 12]\n",
      " [ 3  8 13]\n",
      " [ 4  9 14]]\n",
      "--------------------\n"
     ]
    }
   ],
   "source": [
    "g = np.arange(15)\n",
    "print(g)\n",
    "print('-'*20)\n",
    "print(g.shape)\n",
    "print(np.shape(g))\n",
    "print('-'*20)\n",
    "\n",
    "h = g.reshape((3,5))\n",
    "print(h)\n",
    "print('-'*20)\n",
    "print(h.T)      # h.transpose()\n",
    "print('-'*20)"
   ]
  },
  {
   "cell_type": "markdown",
   "metadata": {},
   "source": [
    "改变大小"
   ]
  },
  {
   "cell_type": "code",
   "execution_count": 19,
   "metadata": {},
   "outputs": [
    {
     "name": "stdout",
     "output_type": "stream",
     "text": [
      "[[0]\n",
      " [1]\n",
      " [2]]\n",
      "--------------------\n",
      "[[0 1 2 3 4]]\n",
      "--------------------\n",
      "[[ 0  1  2  3]\n",
      " [ 4  5  6  7]\n",
      " [ 8  9 10 11]\n",
      " [12 13 14  0]\n",
      " [ 1  2  3  4]]\n"
     ]
    }
   ],
   "source": [
    "g = np.arange(15)\n",
    "\n",
    "# 缩小二维数组\n",
    "print(np.resize(g, (3, 1)))     \n",
    "print('-'*20)\n",
    "\n",
    "print(np.resize(g, (1, 5)))\n",
    "print('-'*20)\n",
    "\n",
    "# 扩大二维数组\n",
    "print(np.resize(g, (5, 4)))"
   ]
  },
  {
   "cell_type": "markdown",
   "metadata": {},
   "source": [
    "堆叠"
   ]
  },
  {
   "cell_type": "code",
   "execution_count": 20,
   "metadata": {},
   "outputs": [
    {
     "name": "stdout",
     "output_type": "stream",
     "text": [
      "[[ 0  1  2  0  2  4]\n",
      " [ 3  4  5  6  8 10]\n",
      " [ 6  7  8 12 14 16]\n",
      " [ 9 10 11 18 20 22]\n",
      " [12 13 14 24 26 28]]\n",
      "--------------------\n",
      "[[ 0  1  2]\n",
      " [ 3  4  5]\n",
      " [ 6  7  8]\n",
      " [ 9 10 11]\n",
      " [12 13 14]\n",
      " [ 0  2  4]\n",
      " [ 6  8 10]\n",
      " [12 14 16]\n",
      " [18 20 22]\n",
      " [24 26 28]]\n",
      "--------------------\n",
      "[[[ 0  0]\n",
      "  [ 1  2]\n",
      "  [ 2  4]]\n",
      "\n",
      " [[ 3  6]\n",
      "  [ 4  8]\n",
      "  [ 5 10]]\n",
      "\n",
      " [[ 6 12]\n",
      "  [ 7 14]\n",
      "  [ 8 16]]\n",
      "\n",
      " [[ 9 18]\n",
      "  [10 20]\n",
      "  [11 22]]\n",
      "\n",
      " [[12 24]\n",
      "  [13 26]\n",
      "  [14 28]]]\n"
     ]
    }
   ],
   "source": [
    "g = np.arange(15)\n",
    "h = g.reshape((5,3))\n",
    "\n",
    "print(np.hstack((h, h*2)))\n",
    "print('-'*20)\n",
    "print(np.vstack((h, h*2)))\n",
    "print('-'*20)\n",
    "print(np.dstack((h, h*2)))"
   ]
  },
  {
   "cell_type": "markdown",
   "metadata": {},
   "source": [
    "扁平化"
   ]
  },
  {
   "cell_type": "markdown",
   "metadata": {},
   "source": [
    "C order 指的是 Row-major Order\n",
    "\n",
    "![Alt text](image.png)\n",
    "\n",
    "F order 指的是 Column-major Order\n",
    "\n",
    "![Alt text](image-2.png)"
   ]
  },
  {
   "cell_type": "code",
   "execution_count": 43,
   "metadata": {},
   "outputs": [
    {
     "name": "stdout",
     "output_type": "stream",
     "text": [
      "[ 0  1  2  3  4  5  6  7  8  9 10 11 12 13 14]\n",
      "[ 0  1  2  3  4  5  6  7  8  9 10 11 12 13 14]\n",
      "[ 0  3  6  9 12  1  4  7 10 13  2  5  8 11 14]\n",
      "--------------------------------------------------\n",
      "0,1,2,3,4,5,6,7,8,9,10,11,12,13,14,0;1;2;3;4;5;6;7;8;9;10;11;12;13;14;0.3.6.9.12.1.4.7.10.13.2.5.8.11.14."
     ]
    }
   ],
   "source": [
    "g = np.arange(15)\n",
    "h = g.reshape((5,3))\n",
    "print(h.flatten())\n",
    "print(h.flatten(order='C'))         # 以C顺序（默认）进行扁平化\n",
    "print(h.flatten(order='F'))         # 以F顺序进行扁平化\n",
    "print('-'*50)\n",
    "\n",
    "for i in h.flat:\n",
    "    print(i, end=',')               # end=',是设置输出不换行，而是以逗号作为结束字符\n",
    "\n",
    "for i in h.ravel(order='C'):        # ravel()是一个NumPy库中的函数，用于将多维数组转换为一维数组；与flat相似，但可指定以行存储还是列存储\n",
    "    print(i, end=';')\n",
    "\n",
    "for i in h.ravel(order='F'):\n",
    "    print(i, end='.')"
   ]
  },
  {
   "cell_type": "markdown",
   "metadata": {},
   "source": [
    "布尔数组   \n",
    "\n",
    "    and —— &\n",
    "    or —— |"
   ]
  },
  {
   "cell_type": "code",
   "execution_count": 22,
   "metadata": {},
   "outputs": [
    {
     "name": "stdout",
     "output_type": "stream",
     "text": [
      "[[False False False]\n",
      " [False False False]\n",
      " [False False False]\n",
      " [ True  True  True]\n",
      " [ True  True  True]]\n",
      "--------------------\n",
      "[[0 0 0]\n",
      " [0 0 1]\n",
      " [0 0 0]\n",
      " [0 0 0]\n",
      " [0 0 0]]\n",
      "--------------------\n",
      "\n"
     ]
    }
   ],
   "source": [
    "g = np.arange(15)\n",
    "h = g.reshape((5,3))\n",
    "\n",
    "print(h > 8)\n",
    "print('-'*20)\n",
    "\n",
    "print((h == 5).astype(int))\n",
    "print('-'*20)\n",
    "\n",
    "print()\n"
   ]
  },
  {
   "cell_type": "markdown",
   "metadata": {},
   "source": [
    "布尔数组可用于索引和数据的选择"
   ]
  },
  {
   "cell_type": "code",
   "execution_count": 23,
   "metadata": {},
   "outputs": [
    {
     "name": "stdout",
     "output_type": "stream",
     "text": [
      "[ 9 10 11 12 13 14]\n",
      "[ 9 10 11 12]\n",
      "[ 0  1  2  3 12 13 14]\n"
     ]
    }
   ],
   "source": [
    "g = np.arange(15)\n",
    "h = g.reshape((5,3))\n",
    "\n",
    "print(h[h > 8])\n",
    "print(h[(h > 8) & (h <= 12)])\n",
    "print(h[(h < 4) | (h >= 12)])"
   ]
  },
  {
   "cell_type": "markdown",
   "metadata": {},
   "source": [
    "np.where()\n",
    "\n",
    "    numpy.where(condition[, x, y])\n",
    "    x, y：这两个参数是可选的。如果提供，它们必须是具有相同形状和类型的一维或二维数组。在条件为真时返回x，在条件为假时返回y"
   ]
  },
  {
   "cell_type": "code",
   "execution_count": 24,
   "metadata": {},
   "outputs": [
    {
     "name": "stdout",
     "output_type": "stream",
     "text": [
      "[[0 0 0]\n",
      " [0 0 0]\n",
      " [0 0 1]\n",
      " [1 1 1]\n",
      " [1 1 1]]\n",
      "[['even' 'odd' 'even']\n",
      " ['odd' 'even' 'odd']\n",
      " ['even' 'odd' 'even']\n",
      " ['odd' 'even' 'odd']\n",
      " ['even' 'odd' 'even']]\n",
      "[[ 0.   2.   4. ]\n",
      " [ 6.   8.  10. ]\n",
      " [12.  14.   4. ]\n",
      " [ 4.5  5.   5.5]\n",
      " [ 6.   6.5  7. ]]\n"
     ]
    }
   ],
   "source": [
    "print(np.where(h>7, 1, 0))\n",
    "\n",
    "print(np.where(h%2==0, 'even', 'odd'))\n",
    "\n",
    "print(np.where(h<=7, h*2, h/2))"
   ]
  },
  {
   "cell_type": "markdown",
   "metadata": {},
   "source": [
    "速度对比"
   ]
  },
  {
   "cell_type": "markdown",
   "metadata": {},
   "source": [
    "第一种，使用嵌套列表形成矩阵——list"
   ]
  },
  {
   "cell_type": "code",
   "execution_count": 25,
   "metadata": {},
   "outputs": [
    {
     "name": "stdout",
     "output_type": "stream",
     "text": [
      "CPU times: total: 20.4 s\n",
      "Wall time: 20.6 s\n"
     ]
    }
   ],
   "source": [
    "import random\n",
    "\n",
    "I = 5000\n",
    "%time mat = [[random.gauss(0,1) for j in range(I)]  for i in range(I)]          # 通过嵌套列表的推到来创建矩阵：5000 x 5000的二维数组"
   ]
  },
  {
   "cell_type": "code",
   "execution_count": 26,
   "metadata": {},
   "outputs": [
    {
     "data": {
      "text/plain": [
       "list"
      ]
     },
     "execution_count": 26,
     "metadata": {},
     "output_type": "execute_result"
    }
   ],
   "source": [
    "type(mat)"
   ]
  },
  {
   "cell_type": "code",
   "execution_count": 27,
   "metadata": {},
   "outputs": [
    {
     "name": "stdout",
     "output_type": "stream",
     "text": [
      "CPU times: total: 359 ms\n",
      "Wall time: 413 ms\n"
     ]
    },
    {
     "data": {
      "text/plain": [
       "-2054.513546727786"
      ]
     },
     "execution_count": 27,
     "metadata": {},
     "output_type": "execute_result"
    }
   ],
   "source": [
    "mat[0][:5]\n",
    "\n",
    "%time sum([sum(l) for l in mat])                # 在列表推导期间首先计算单个列表对象的总和，然后取这些总和的总和"
   ]
  },
  {
   "cell_type": "code",
   "execution_count": 28,
   "metadata": {},
   "outputs": [
    {
     "data": {
      "text/plain": [
       "209400000"
      ]
     },
     "execution_count": 28,
     "metadata": {},
     "output_type": "execute_result"
    }
   ],
   "source": [
    "import sys\n",
    "\n",
    "sum([sys.getsizeof(l) for l in mat])            # sys.getsizeof(l)：这个函数返回传入对象的内存占用大小（单位为字节）"
   ]
  },
  {
   "cell_type": "markdown",
   "metadata": {},
   "source": [
    "第二种，使用ndarray——速度比第一种快了二十倍，内存占用也小"
   ]
  },
  {
   "cell_type": "code",
   "execution_count": 2,
   "metadata": {},
   "outputs": [
    {
     "name": "stdout",
     "output_type": "stream",
     "text": [
      "CPU times: total: 766 ms\n",
      "Wall time: 765 ms\n"
     ]
    }
   ],
   "source": [
    "import numpy as np\n",
    "\n",
    "I = 5000\n",
    "%time mat = np.random.standard_normal((I,I))"
   ]
  },
  {
   "cell_type": "code",
   "execution_count": 30,
   "metadata": {},
   "outputs": [
    {
     "data": {
      "text/plain": [
       "numpy.ndarray"
      ]
     },
     "execution_count": 30,
     "metadata": {},
     "output_type": "execute_result"
    }
   ],
   "source": [
    "type(mat)"
   ]
  },
  {
   "cell_type": "code",
   "execution_count": 31,
   "metadata": {},
   "outputs": [
    {
     "name": "stdout",
     "output_type": "stream",
     "text": [
      "CPU times: total: 156 ms\n",
      "Wall time: 163 ms\n"
     ]
    },
    {
     "data": {
      "text/plain": [
       "9635.782086440367"
      ]
     },
     "execution_count": 31,
     "metadata": {},
     "output_type": "execute_result"
    }
   ],
   "source": [
    "%time mat.sum()"
   ]
  },
  {
   "cell_type": "code",
   "execution_count": 32,
   "metadata": {},
   "outputs": [
    {
     "data": {
      "text/plain": [
       "200000000"
      ]
     },
     "execution_count": 32,
     "metadata": {},
     "output_type": "execute_result"
    }
   ],
   "source": [
    "mat.nbytes"
   ]
  },
  {
   "cell_type": "code",
   "execution_count": 33,
   "metadata": {},
   "outputs": [
    {
     "data": {
      "text/plain": [
       "200000128"
      ]
     },
     "execution_count": 33,
     "metadata": {},
     "output_type": "execute_result"
    }
   ],
   "source": [
    "import sys\n",
    "\n",
    "sys.getsizeof(mat)"
   ]
  },
  {
   "cell_type": "markdown",
   "metadata": {},
   "source": [
    "### Numpy结构数组"
   ]
  },
  {
   "cell_type": "code",
   "execution_count": 34,
   "metadata": {},
   "outputs": [
    {
     "name": "stdout",
     "output_type": "stream",
     "text": [
      "[('Name', 'S10'), ('Age', '<i4'), ('Height', '<f4'), ('Children/Pets', '<i4', (2,))]\n",
      "[(b'Smith', 45, 1.83, [0, 1]) (b'Jones', 53, 1.72, [2, 2])]\n",
      "<class 'numpy.ndarray'>\n"
     ]
    }
   ],
   "source": [
    "dt = np.dtype([('Name', 'S10'), ('Age', 'i4'), ('Height', 'f'), ('Children/Pets', 'i4', 2)])    \n",
    "    # NumPy数据类型（dtype）的定义，用于描述一个复合数据类型\n",
    "\n",
    "    # 'Name': 是一个长度最大为10的字节字符串（'S10'）。这可以用来存储人类的名字，例如 'John' 或 'Alexandru'.\n",
    "    # 'Age': 是一个4字节的整数（'i4'）。这可以用来存储年龄，例如25或30。\n",
    "    # 'Height': 是一个浮点数（'f'）。这可以用来存储身高，例如1.75或1.80。\n",
    "    # Children/Pets': 是一个2个元素的整数数组（'i4', 2）。这可以用来存储孩子或宠物的数量，例如 [2, 3] 可以表示有2个孩子和3只宠物。\n",
    "print(dt)\n",
    "\n",
    "s = np.array([('Smith', 45, 1.83, (0,1)), ('Jones', 53, 1.72, (2,2))], dtype=dt)        # 实现结构化数组\n",
    "print(s)\n",
    "print(type(s))"
   ]
  },
  {
   "cell_type": "code",
   "execution_count": 35,
   "metadata": {},
   "outputs": [
    {
     "name": "stdout",
     "output_type": "stream",
     "text": [
      "[b'Smith' b'Jones']\n",
      "1.7750001\n",
      "(b'Smith', 45, 1.83, [0, 1])\n",
      "53\n"
     ]
    }
   ],
   "source": [
    "print(s['Name'])\n",
    "\n",
    "print(s['Height'].mean())\n",
    "\n",
    "print(s[0])\n",
    "\n",
    "print(s[1]['Age'])"
   ]
  },
  {
   "cell_type": "markdown",
   "metadata": {},
   "source": [
    "### 代码向量化"
   ]
  },
  {
   "cell_type": "code",
   "execution_count": 36,
   "metadata": {},
   "outputs": [
    {
     "name": "stdout",
     "output_type": "stream",
     "text": [
      "[[ 0  1  2]\n",
      " [ 3  4  5]\n",
      " [ 6  7  8]\n",
      " [ 9 10 11]]\n",
      "\n",
      "[[ 0.   1.5  3. ]\n",
      " [ 4.5  6.   7.5]\n",
      " [ 9.  10.5 12. ]\n",
      " [13.5 15.  16.5]]\n",
      "\n",
      "[[ 3  5  7]\n",
      " [ 9 11 13]\n",
      " [15 17 19]\n",
      " [21 23 25]]\n"
     ]
    }
   ],
   "source": [
    "np.random.seed(100)\n",
    "r = np.arange(12).reshape((4,3))\n",
    "s = np.arange(12).reshape((4,3)) * 0.5\n",
    "\n",
    "print(r)\n",
    "print('')\n",
    "print(r+s)\n",
    "print('')\n",
    "print(r*2 + 3)"
   ]
  },
  {
   "cell_type": "markdown",
   "metadata": {},
   "source": [
    "ndarray的运算\n",
    "\n",
    "https://blog.csdn.net/tust123qht/article/details/84779766"
   ]
  },
  {
   "cell_type": "code",
   "execution_count": 5,
   "metadata": {},
   "outputs": [
    {
     "name": "stdout",
     "output_type": "stream",
     "text": [
      "[[ 0  5 10]\n",
      " [ 3  8 13]\n",
      " [ 6 11 16]\n",
      " [ 9 14 19]]\n",
      "[[ 0  6 12 18]\n",
      " [ 1  7 13 19]\n",
      " [ 2  8 14 20]]\n",
      "[[0]\n",
      " [3]\n",
      " [6]\n",
      " [9]]\n",
      "(4, 1)\n",
      "[0 3 6 9]\n"
     ]
    }
   ],
   "source": [
    "r = np.arange(12).reshape((4,3))\n",
    "\n",
    "s = np.arange(0, 12, 4)\n",
    "\n",
    "print(r+s)\n",
    "\n",
    "m = np.arange(0, 12, 3)\n",
    "\n",
    "print(r.T+m)\n",
    "\n",
    "mr = m.reshape(-1, 1)           \n",
    "    # -1指未设定行数\n",
    "    # reshape(-1, 1) 表示（任意行，1列） eg.4行4列变成16行1列\n",
    "    # reshape(-1, 2) 表示（任意行，2列） eg.4行4列变成8行2列\n",
    "    # reshape(1, -1) 表示（1行，任意列） eg.4行4列变成1行16列\n",
    "print(mr)\n",
    "print(mr.shape)\n",
    "print(m)"
   ]
  },
  {
   "cell_type": "markdown",
   "metadata": {},
   "source": [
    "numpy 不同形状(shape)的数组数值计算方式\n",
    "\n",
    "https://blog.csdn.net/t852947739/article/details/89219378"
   ]
  },
  {
   "cell_type": "markdown",
   "metadata": {},
   "source": [
    "1.如果两个数组 a 和 b 形状相同，即满足 a.shape == b.shape，那么 a*b 的结果就是 a 与 b 数组对应位相乘。这要求维数相同，且各维度的长度相同。 "
   ]
  },
  {
   "cell_type": "code",
   "execution_count": 38,
   "metadata": {},
   "outputs": [
    {
     "name": "stdout",
     "output_type": "stream",
     "text": [
      "[ 5 12 21 32]\n"
     ]
    }
   ],
   "source": [
    "import numpy as np\n",
    "\n",
    "a = np.array([1, 2, 3, 4])\n",
    "b = np.array([5, 6, 7, 8])\n",
    "c = a * b\n",
    "print(c)"
   ]
  },
  {
   "cell_type": "markdown",
   "metadata": {},
   "source": [
    "2.当运算中的 2 个数组的形状不同时，numpy 将自动触发广播机制。\n",
    "\n",
    "![Alt text](image-3.png)"
   ]
  },
  {
   "cell_type": "markdown",
   "metadata": {},
   "source": [
    "np.tile是NumPy库中的一个函数，用于重复数组（或数组的一部分）以生成新的数组。\n",
    "\n",
    "    基本语法是：numpy.tile(A, reps)\n",
    "    这里，A是输入数组，reps是一个整数或整数数组，定义了A应被复制多少次。"
   ]
  },
  {
   "cell_type": "code",
   "execution_count": 39,
   "metadata": {},
   "outputs": [
    {
     "name": "stdout",
     "output_type": "stream",
     "text": [
      "[[ 1  2  3]\n",
      " [11 12 13]\n",
      " [21 22 23]\n",
      " [31 32 33]]\n"
     ]
    }
   ],
   "source": [
    "import numpy as np \n",
    "\t     \n",
    "a = np.array([[ 0, 0, 0],\n",
    "            [10,10,10],\n",
    "            [20,20,20],\n",
    "            [30,30,30]])\n",
    "b = np.array([1,2,3])\n",
    "print(a + b)"
   ]
  },
  {
   "cell_type": "code",
   "execution_count": 12,
   "metadata": {},
   "outputs": [
    {
     "name": "stdout",
     "output_type": "stream",
     "text": [
      "[[ 1  2  3]\n",
      " [11 12 13]\n",
      " [21 22 23]\n",
      " [31 32 33]]\n",
      "[[1 2 3]\n",
      " [1 2 3]\n",
      " [1 2 3]\n",
      " [1 2 3]]\n",
      "[[1 2 3 1 2 3 1 2 3 1 2 3]\n",
      " [1 2 3 1 2 3 1 2 3 1 2 3]\n",
      " [1 2 3 1 2 3 1 2 3 1 2 3]\n",
      " [1 2 3 1 2 3 1 2 3 1 2 3]]\n"
     ]
    }
   ],
   "source": [
    "import numpy as np\n",
    "a = np.array([[ 0, 0, 0], [10,10,10], [20,20,20], [30,30,30]])\n",
    "b = np.array([1,2,3])\n",
    "bb = np.tile(b, (4, 1))\n",
    "print(a + bb)\n",
    "print(bb)\n",
    "\n",
    "cc = np.tile(b, (4, 4))\n",
    "print(cc)"
   ]
  },
  {
   "cell_type": "code",
   "execution_count": 44,
   "metadata": {},
   "outputs": [
    {
     "name": "stdout",
     "output_type": "stream",
     "text": [
      "[0 1 2 0 1 2]\n",
      "***********************\n",
      "[[0 1 2]\n",
      " [0 1 2]]\n",
      "***********************\n",
      "[[[0 1 2]\n",
      "  [0 1 2]]\n",
      "\n",
      " [[0 1 2]\n",
      "  [0 1 2]]]\n",
      "***********************\n",
      "[[1 2 1 2]\n",
      " [3 4 3 4]]\n",
      "***********************\n",
      "[[1 2]\n",
      " [3 4]\n",
      " [1 2]\n",
      " [3 4]]\n",
      "***********************\n",
      "[[1 2 3 4]\n",
      " [1 2 3 4]\n",
      " [1 2 3 4]\n",
      " [1 2 3 4]]\n"
     ]
    }
   ],
   "source": [
    "import numpy as np\n",
    "\n",
    "a = np.array([0, 1, 2])\n",
    "b = np.tile(a,2)\n",
    "print(b)\n",
    "print('***********************')\n",
    "c = np.tile(a, (2, 1))     \n",
    "print (c)\n",
    "print('***********************')\n",
    "d = np.tile(a, (2, 2, 1))      \n",
    "print(d)\n",
    "print('***********************')\n",
    "e = np.array([[1, 2], [3, 4]])\n",
    "f = np.tile(e, 2)        \n",
    "print(f)\n",
    "print('***********************')\n",
    "g = np.tile(e, (2, 1))    \n",
    "print(g)\n",
    "print('***********************')\n",
    "h = np.array([1,2,3,4])\n",
    "i = np.tile(h,(4,1))      \n",
    "print(i)\n"
   ]
  },
  {
   "cell_type": "markdown",
   "metadata": {},
   "source": [
    "内存布局"
   ]
  },
  {
   "cell_type": "code",
   "execution_count": 15,
   "metadata": {},
   "outputs": [
    {
     "name": "stdout",
     "output_type": "stream",
     "text": [
      "[[[-2.62  0.63 -0.06 -0.56  0.61]\n",
      "  [ 0.78  0.18 -0.06 -0.55  0.66]\n",
      "  [-0.71  0.27 -0.09 -0.35 -0.01]\n",
      "  ...\n",
      "  [-1.53  0.22 -0.63 -1.45  0.54]\n",
      "  [ 1.56 -2.09 -1.09  0.46 -0.01]\n",
      "  [ 0.03  0.66  0.5   1.03 -0.09]]\n",
      "\n",
      " [[-2.25  4.27  2.87  1.87  4.23]\n",
      "  [ 4.55  3.36  2.87  1.91  4.33]\n",
      "  [ 1.57  3.54  2.82  2.29  2.98]\n",
      "  ...\n",
      "  [-0.05  3.45  1.75  0.09  4.09]\n",
      "  [ 6.13 -1.19  0.83  3.92  2.99]\n",
      "  [ 3.06  4.31  4.    5.05  2.83]]]\n",
      "[[[-2.62  0.63 -0.06 -0.56  0.61]\n",
      "  [ 0.78  0.18 -0.06 -0.55  0.66]\n",
      "  [-0.71  0.27 -0.09 -0.35 -0.01]\n",
      "  ...\n",
      "  [-1.53  0.22 -0.63 -1.45  0.54]\n",
      "  [ 1.56 -2.09 -1.09  0.46 -0.01]\n",
      "  [ 0.03  0.66  0.5   1.03 -0.09]]\n",
      "\n",
      " [[-2.25  4.27  2.87  1.87  4.23]\n",
      "  [ 4.55  3.36  2.87  1.91  4.33]\n",
      "  [ 1.57  3.54  2.82  2.29  2.98]\n",
      "  ...\n",
      "  [-0.05  3.45  1.75  0.09  4.09]\n",
      "  [ 6.13 -1.19  0.83  3.92  2.99]\n",
      "  [ 3.06  4.31  4.    5.05  2.83]]]\n"
     ]
    }
   ],
   "source": [
    "x = np.random.standard_normal((1000000, 5))\n",
    "\n",
    "y = 2 * x + 3\n",
    "\n",
    "C = np.array((x,y), order='C')\n",
    "\n",
    "F = np.array((x,y), order='F')\n",
    "\n",
    "x = 0.0\n",
    "y = 0.0         # 释放内存\n",
    "\n",
    "print(C[:2].round(2))\n",
    "print(F[:2].round(2))\n",
    "\n",
    "# %timeit C.sum()"
   ]
  }
 ],
 "metadata": {
  "kernelspec": {
   "display_name": "Python 3",
   "language": "python",
   "name": "python3"
  },
  "language_info": {
   "codemirror_mode": {
    "name": "ipython",
    "version": 3
   },
   "file_extension": ".py",
   "mimetype": "text/x-python",
   "name": "python",
   "nbconvert_exporter": "python",
   "pygments_lexer": "ipython3",
   "version": "3.11.4"
  },
  "orig_nbformat": 4
 },
 "nbformat": 4,
 "nbformat_minor": 2
}
